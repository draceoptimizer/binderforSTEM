{
 "cells": [
  {
   "cell_type": "markdown",
   "metadata": {},
   "source": [
    "# The Meaning of Average\n",
    "\n",
    "This notebook explores the meaning of average using some simple examples, then delves into deeper concepts as the student becomes better acquainted with the concept."
   ]
  },
  {
   "cell_type": "markdown",
   "metadata": {},
   "source": [
    "## The Definition\n",
    "\n",
    "In mathematics (and in most computing environments), we use the word <i>\"mean\"</i> for the average and this is simply defined as $mean = \\frac{\\sum{x_i}}{N}$, where $x_i$ are the values of interest and $N$ is the number of items.  For instance, the mean of the numbers $\\{2,3,4,5,6\\}$ is $\\frac{2+3+4+5+6}{5} = \\frac{16}{5} = 4$."
   ]
  }
 ],
 "metadata": {
  "kernelspec": {
   "display_name": "Python 3",
   "language": "python",
   "name": "python3"
  },
  "language_info": {
   "codemirror_mode": {
    "name": "ipython",
    "version": 3
   },
   "file_extension": ".py",
   "mimetype": "text/x-python",
   "name": "python",
   "nbconvert_exporter": "python",
   "pygments_lexer": "ipython3",
   "version": "3.7.1"
  }
 },
 "nbformat": 4,
 "nbformat_minor": 2
}
